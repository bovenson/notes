{
 "cells": [
  {
   "cell_type": "markdown",
   "metadata": {},
   "source": [
    "## 建立纸牌类"
   ]
  },
  {
   "cell_type": "code",
   "execution_count": 16,
   "metadata": {},
   "outputs": [],
   "source": [
    "import collections\n",
    "\n",
    "Card = collections.namedtuple('Card', ['rank', 'suit'])\n",
    "\n",
    "class FrenchDeck:\n",
    "    ranks = [str(n) for n in range(2, 11)] + list('JQKA')\n",
    "    suits = 'spades diamonds clubs hearts'.split()\n",
    "    \n",
    "    def __init__(self):\n",
    "        self._cards = [Card(rank, suit) for suit in self.suits for rank in self.ranks]\n",
    "        \n",
    "    def __len__(self):\n",
    "        print('__len__::')\n",
    "        return len(self._cards)\n",
    "    \n",
    "    def __getitem__(self, position):\n",
    "        print('__getitem__:: position: ', position, ' type:', type(position))\n",
    "        return self._cards[position]"
   ]
  },
  {
   "cell_type": "markdown",
   "metadata": {},
   "source": [
    "获得纸牌对象"
   ]
  },
  {
   "cell_type": "code",
   "execution_count": 17,
   "metadata": {},
   "outputs": [
    {
     "name": "stdout",
     "output_type": "stream",
     "text": [
      "Card(rank='7', suit='diamonds')\n"
     ]
    }
   ],
   "source": [
    "beer_card = Card('7', 'diamonds')\n",
    "print(beer_card)"
   ]
  },
  {
   "cell_type": "markdown",
   "metadata": {},
   "source": [
    "**FrechDeck类**\n",
    "\n",
    "查看一叠纸牌有多少张"
   ]
  },
  {
   "cell_type": "code",
   "execution_count": 18,
   "metadata": {
    "scrolled": false
   },
   "outputs": [
    {
     "name": "stdout",
     "output_type": "stream",
     "text": [
      "__len__::\n"
     ]
    },
    {
     "data": {
      "text/plain": [
       "52"
      ]
     },
     "execution_count": 18,
     "metadata": {},
     "output_type": "execute_result"
    }
   ],
   "source": [
    "deck = FrenchDeck()\n",
    "len(deck)"
   ]
  },
  {
   "cell_type": "markdown",
   "metadata": {},
   "source": [
    "使用特殊句法`[]`，调用`__getitem__`特殊方法，抽取特定位置的纸牌。"
   ]
  },
  {
   "cell_type": "code",
   "execution_count": 19,
   "metadata": {},
   "outputs": [
    {
     "name": "stdout",
     "output_type": "stream",
     "text": [
      "__getitem__:: position:  0  type: <class 'int'>\n",
      "Card(rank='2', suit='spades')\n",
      "__getitem__:: position:  -1  type: <class 'int'>\n",
      "Card(rank='A', suit='hearts')\n"
     ]
    }
   ],
   "source": [
    "# 第一张\n",
    "print(deck[0])\n",
    "# 最后一张\n",
    "print(deck[-1])"
   ]
  },
  {
   "cell_type": "markdown",
   "metadata": {},
   "source": [
    "随机抽取一张纸牌"
   ]
  },
  {
   "cell_type": "code",
   "execution_count": 20,
   "metadata": {},
   "outputs": [
    {
     "name": "stdout",
     "output_type": "stream",
     "text": [
      "__len__::\n",
      "__getitem__:: position:  23  type: <class 'int'>\n",
      "Card(rank='Q', suit='diamonds')\n",
      "__len__::\n",
      "__getitem__:: position:  29  type: <class 'int'>\n",
      "Card(rank='5', suit='clubs')\n",
      "__len__::\n",
      "__getitem__:: position:  39  type: <class 'int'>\n",
      "Card(rank='2', suit='hearts')\n"
     ]
    }
   ],
   "source": [
    "from random import choice\n",
    "print(choice(deck))\n",
    "print(choice(deck))\n",
    "print(choice(deck))"
   ]
  },
  {
   "cell_type": "markdown",
   "metadata": {},
   "source": [
    "**利用Python数据模型的好处**\n",
    "- 类用户不必记住函数名称及调用方式\n",
    "- 可以更加方便地利用Python的标准库\n",
    "- 方便使用数据模型的内置操作，如切片等\n",
    "\n",
    "对`deck`进行切片操作。`FrenchDeck`类中，`__getitem__`方法把`[]`操作交给了`self._cards`列表，所以我们的`deck`类自动支持切片操作。"
   ]
  },
  {
   "cell_type": "code",
   "execution_count": 21,
   "metadata": {},
   "outputs": [
    {
     "name": "stdout",
     "output_type": "stream",
     "text": [
      "__getitem__:: position:  slice(None, 3, None)  type: <class 'slice'>\n",
      "[Card(rank='2', suit='spades'), Card(rank='3', suit='spades'), Card(rank='4', suit='spades')]\n",
      "__getitem__:: position:  slice(12, None, 13)  type: <class 'slice'>\n",
      "[Card(rank='A', suit='spades'), Card(rank='A', suit='diamonds'), Card(rank='A', suit='clubs'), Card(rank='A', suit='hearts')]\n"
     ]
    }
   ],
   "source": [
    "print(deck[:3])\n",
    "print(deck[12::13])"
   ]
  },
  {
   "cell_type": "markdown",
   "metadata": {},
   "source": [
    "仅实现了`__getitem__`方法，这一摞纸牌就变成可迭代的了:"
   ]
  },
  {
   "cell_type": "code",
   "execution_count": 25,
   "metadata": {},
   "outputs": [
    {
     "name": "stdout",
     "output_type": "stream",
     "text": [
      "__getitem__:: position:  0  type: <class 'int'>\n",
      "Card(rank='2', suit='spades')\n",
      "__getitem__:: position:  1  type: <class 'int'>\n",
      "Card(rank='3', suit='spades')\n",
      "__getitem__:: position:  2  type: <class 'int'>\n",
      "Card(rank='4', suit='spades')\n",
      "__getitem__:: position:  3  type: <class 'int'>\n",
      "Card(rank='5', suit='spades')\n",
      "__getitem__:: position:  4  type: <class 'int'>\n",
      "Card(rank='6', suit='spades')\n",
      "__getitem__:: position:  5  type: <class 'int'>\n",
      "Card(rank='7', suit='spades')\n",
      "__getitem__:: position:  6  type: <class 'int'>\n",
      "Card(rank='8', suit='spades')\n",
      "__getitem__:: position:  7  type: <class 'int'>\n",
      "Card(rank='9', suit='spades')\n",
      "__getitem__:: position:  8  type: <class 'int'>\n",
      "Card(rank='10', suit='spades')\n",
      "__getitem__:: position:  9  type: <class 'int'>\n",
      "Card(rank='J', suit='spades')\n",
      "__getitem__:: position:  10  type: <class 'int'>\n",
      "Card(rank='Q', suit='spades')\n",
      "__getitem__:: position:  11  type: <class 'int'>\n",
      "Card(rank='K', suit='spades')\n",
      "__getitem__:: position:  12  type: <class 'int'>\n",
      "Card(rank='A', suit='spades')\n",
      "__getitem__:: position:  13  type: <class 'int'>\n",
      "Card(rank='2', suit='diamonds')\n",
      "__getitem__:: position:  14  type: <class 'int'>\n",
      "Card(rank='3', suit='diamonds')\n",
      "__getitem__:: position:  15  type: <class 'int'>\n",
      "Card(rank='4', suit='diamonds')\n",
      "__getitem__:: position:  16  type: <class 'int'>\n",
      "Card(rank='5', suit='diamonds')\n",
      "__getitem__:: position:  17  type: <class 'int'>\n",
      "Card(rank='6', suit='diamonds')\n",
      "__getitem__:: position:  18  type: <class 'int'>\n",
      "Card(rank='7', suit='diamonds')\n",
      "__getitem__:: position:  19  type: <class 'int'>\n",
      "Card(rank='8', suit='diamonds')\n",
      "__getitem__:: position:  20  type: <class 'int'>\n",
      "Card(rank='9', suit='diamonds')\n",
      "__getitem__:: position:  21  type: <class 'int'>\n",
      "Card(rank='10', suit='diamonds')\n",
      "__getitem__:: position:  22  type: <class 'int'>\n",
      "Card(rank='J', suit='diamonds')\n",
      "__getitem__:: position:  23  type: <class 'int'>\n",
      "Card(rank='Q', suit='diamonds')\n",
      "__getitem__:: position:  24  type: <class 'int'>\n",
      "Card(rank='K', suit='diamonds')\n",
      "__getitem__:: position:  25  type: <class 'int'>\n",
      "Card(rank='A', suit='diamonds')\n",
      "__getitem__:: position:  26  type: <class 'int'>\n",
      "Card(rank='2', suit='clubs')\n",
      "__getitem__:: position:  27  type: <class 'int'>\n",
      "Card(rank='3', suit='clubs')\n",
      "__getitem__:: position:  28  type: <class 'int'>\n",
      "Card(rank='4', suit='clubs')\n",
      "__getitem__:: position:  29  type: <class 'int'>\n",
      "Card(rank='5', suit='clubs')\n",
      "__getitem__:: position:  30  type: <class 'int'>\n",
      "Card(rank='6', suit='clubs')\n",
      "__getitem__:: position:  31  type: <class 'int'>\n",
      "Card(rank='7', suit='clubs')\n",
      "__getitem__:: position:  32  type: <class 'int'>\n",
      "Card(rank='8', suit='clubs')\n",
      "__getitem__:: position:  33  type: <class 'int'>\n",
      "Card(rank='9', suit='clubs')\n",
      "__getitem__:: position:  34  type: <class 'int'>\n",
      "Card(rank='10', suit='clubs')\n",
      "__getitem__:: position:  35  type: <class 'int'>\n",
      "Card(rank='J', suit='clubs')\n",
      "__getitem__:: position:  36  type: <class 'int'>\n",
      "Card(rank='Q', suit='clubs')\n",
      "__getitem__:: position:  37  type: <class 'int'>\n",
      "Card(rank='K', suit='clubs')\n",
      "__getitem__:: position:  38  type: <class 'int'>\n",
      "Card(rank='A', suit='clubs')\n",
      "__getitem__:: position:  39  type: <class 'int'>\n",
      "Card(rank='2', suit='hearts')\n",
      "__getitem__:: position:  40  type: <class 'int'>\n",
      "Card(rank='3', suit='hearts')\n",
      "__getitem__:: position:  41  type: <class 'int'>\n",
      "Card(rank='4', suit='hearts')\n",
      "__getitem__:: position:  42  type: <class 'int'>\n",
      "Card(rank='5', suit='hearts')\n",
      "__getitem__:: position:  43  type: <class 'int'>\n",
      "Card(rank='6', suit='hearts')\n",
      "__getitem__:: position:  44  type: <class 'int'>\n",
      "Card(rank='7', suit='hearts')\n",
      "__getitem__:: position:  45  type: <class 'int'>\n",
      "Card(rank='8', suit='hearts')\n",
      "__getitem__:: position:  46  type: <class 'int'>\n",
      "Card(rank='9', suit='hearts')\n",
      "__getitem__:: position:  47  type: <class 'int'>\n",
      "Card(rank='10', suit='hearts')\n",
      "__getitem__:: position:  48  type: <class 'int'>\n",
      "Card(rank='J', suit='hearts')\n",
      "__getitem__:: position:  49  type: <class 'int'>\n",
      "Card(rank='Q', suit='hearts')\n",
      "__getitem__:: position:  50  type: <class 'int'>\n",
      "Card(rank='K', suit='hearts')\n",
      "__getitem__:: position:  51  type: <class 'int'>\n",
      "Card(rank='A', suit='hearts')\n",
      "__getitem__:: position:  52  type: <class 'int'>\n"
     ]
    }
   ],
   "source": [
    "for card in deck:\n",
    "    print(card)"
   ]
  },
  {
   "cell_type": "markdown",
   "metadata": {},
   "source": [
    "反向迭代"
   ]
  },
  {
   "cell_type": "code",
   "execution_count": 26,
   "metadata": {},
   "outputs": [
    {
     "name": "stdout",
     "output_type": "stream",
     "text": [
      "__len__::\n",
      "__getitem__:: position:  51  type: <class 'int'>\n",
      "Card(rank='A', suit='hearts')\n",
      "__getitem__:: position:  50  type: <class 'int'>\n",
      "Card(rank='K', suit='hearts')\n",
      "__getitem__:: position:  49  type: <class 'int'>\n",
      "Card(rank='Q', suit='hearts')\n",
      "__getitem__:: position:  48  type: <class 'int'>\n",
      "Card(rank='J', suit='hearts')\n",
      "__getitem__:: position:  47  type: <class 'int'>\n",
      "Card(rank='10', suit='hearts')\n",
      "__getitem__:: position:  46  type: <class 'int'>\n",
      "Card(rank='9', suit='hearts')\n",
      "__getitem__:: position:  45  type: <class 'int'>\n",
      "Card(rank='8', suit='hearts')\n",
      "__getitem__:: position:  44  type: <class 'int'>\n",
      "Card(rank='7', suit='hearts')\n",
      "__getitem__:: position:  43  type: <class 'int'>\n",
      "Card(rank='6', suit='hearts')\n",
      "__getitem__:: position:  42  type: <class 'int'>\n",
      "Card(rank='5', suit='hearts')\n",
      "__getitem__:: position:  41  type: <class 'int'>\n",
      "Card(rank='4', suit='hearts')\n",
      "__getitem__:: position:  40  type: <class 'int'>\n",
      "Card(rank='3', suit='hearts')\n",
      "__getitem__:: position:  39  type: <class 'int'>\n",
      "Card(rank='2', suit='hearts')\n",
      "__getitem__:: position:  38  type: <class 'int'>\n",
      "Card(rank='A', suit='clubs')\n",
      "__getitem__:: position:  37  type: <class 'int'>\n",
      "Card(rank='K', suit='clubs')\n",
      "__getitem__:: position:  36  type: <class 'int'>\n",
      "Card(rank='Q', suit='clubs')\n",
      "__getitem__:: position:  35  type: <class 'int'>\n",
      "Card(rank='J', suit='clubs')\n",
      "__getitem__:: position:  34  type: <class 'int'>\n",
      "Card(rank='10', suit='clubs')\n",
      "__getitem__:: position:  33  type: <class 'int'>\n",
      "Card(rank='9', suit='clubs')\n",
      "__getitem__:: position:  32  type: <class 'int'>\n",
      "Card(rank='8', suit='clubs')\n",
      "__getitem__:: position:  31  type: <class 'int'>\n",
      "Card(rank='7', suit='clubs')\n",
      "__getitem__:: position:  30  type: <class 'int'>\n",
      "Card(rank='6', suit='clubs')\n",
      "__getitem__:: position:  29  type: <class 'int'>\n",
      "Card(rank='5', suit='clubs')\n",
      "__getitem__:: position:  28  type: <class 'int'>\n",
      "Card(rank='4', suit='clubs')\n",
      "__getitem__:: position:  27  type: <class 'int'>\n",
      "Card(rank='3', suit='clubs')\n",
      "__getitem__:: position:  26  type: <class 'int'>\n",
      "Card(rank='2', suit='clubs')\n",
      "__getitem__:: position:  25  type: <class 'int'>\n",
      "Card(rank='A', suit='diamonds')\n",
      "__getitem__:: position:  24  type: <class 'int'>\n",
      "Card(rank='K', suit='diamonds')\n",
      "__getitem__:: position:  23  type: <class 'int'>\n",
      "Card(rank='Q', suit='diamonds')\n",
      "__getitem__:: position:  22  type: <class 'int'>\n",
      "Card(rank='J', suit='diamonds')\n",
      "__getitem__:: position:  21  type: <class 'int'>\n",
      "Card(rank='10', suit='diamonds')\n",
      "__getitem__:: position:  20  type: <class 'int'>\n",
      "Card(rank='9', suit='diamonds')\n",
      "__getitem__:: position:  19  type: <class 'int'>\n",
      "Card(rank='8', suit='diamonds')\n",
      "__getitem__:: position:  18  type: <class 'int'>\n",
      "Card(rank='7', suit='diamonds')\n",
      "__getitem__:: position:  17  type: <class 'int'>\n",
      "Card(rank='6', suit='diamonds')\n",
      "__getitem__:: position:  16  type: <class 'int'>\n",
      "Card(rank='5', suit='diamonds')\n",
      "__getitem__:: position:  15  type: <class 'int'>\n",
      "Card(rank='4', suit='diamonds')\n",
      "__getitem__:: position:  14  type: <class 'int'>\n",
      "Card(rank='3', suit='diamonds')\n",
      "__getitem__:: position:  13  type: <class 'int'>\n",
      "Card(rank='2', suit='diamonds')\n",
      "__getitem__:: position:  12  type: <class 'int'>\n",
      "Card(rank='A', suit='spades')\n",
      "__getitem__:: position:  11  type: <class 'int'>\n",
      "Card(rank='K', suit='spades')\n",
      "__getitem__:: position:  10  type: <class 'int'>\n",
      "Card(rank='Q', suit='spades')\n",
      "__getitem__:: position:  9  type: <class 'int'>\n",
      "Card(rank='J', suit='spades')\n",
      "__getitem__:: position:  8  type: <class 'int'>\n",
      "Card(rank='10', suit='spades')\n",
      "__getitem__:: position:  7  type: <class 'int'>\n",
      "Card(rank='9', suit='spades')\n",
      "__getitem__:: position:  6  type: <class 'int'>\n",
      "Card(rank='8', suit='spades')\n",
      "__getitem__:: position:  5  type: <class 'int'>\n",
      "Card(rank='7', suit='spades')\n",
      "__getitem__:: position:  4  type: <class 'int'>\n",
      "Card(rank='6', suit='spades')\n",
      "__getitem__:: position:  3  type: <class 'int'>\n",
      "Card(rank='5', suit='spades')\n",
      "__getitem__:: position:  2  type: <class 'int'>\n",
      "Card(rank='4', suit='spades')\n",
      "__getitem__:: position:  1  type: <class 'int'>\n",
      "Card(rank='3', suit='spades')\n",
      "__getitem__:: position:  0  type: <class 'int'>\n",
      "Card(rank='2', suit='spades')\n"
     ]
    }
   ],
   "source": [
    "for card in reversed(deck):\n",
    "    print(card)"
   ]
  },
  {
   "cell_type": "markdown",
   "metadata": {},
   "source": [
    "迭代通常是隐式的，譬如说一个集合类型没有实现`__contains__`方法，那么`in`运算符就会按顺序做一次迭代搜索。"
   ]
  },
  {
   "cell_type": "code",
   "execution_count": null,
   "metadata": {},
   "outputs": [],
   "source": []
  }
 ],
 "metadata": {
  "kernelspec": {
   "display_name": "Python 3",
   "language": "python",
   "name": "python3"
  },
  "language_info": {
   "codemirror_mode": {
    "name": "ipython",
    "version": 3
   },
   "file_extension": ".py",
   "mimetype": "text/x-python",
   "name": "python",
   "nbconvert_exporter": "python",
   "pygments_lexer": "ipython3",
   "version": "3.6.4"
  }
 },
 "nbformat": 4,
 "nbformat_minor": 2
}
