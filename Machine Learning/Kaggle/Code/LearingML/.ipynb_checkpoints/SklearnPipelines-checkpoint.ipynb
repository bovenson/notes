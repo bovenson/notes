{
 "cells": [
  {
   "cell_type": "markdown",
   "metadata": {},
   "source": [
    "# 什么是 Pipelines?\n",
    "\n",
    "Pipelines是组织数据处理和建模代码的简单方法。具体而言，一个管道捆绑了预处理和建模的多个步骤，因此可以像使用单个步骤一样使用整个捆绑包。\n",
    "\n",
    "Pipeline的好处：\n",
    "- ** 更简洁的代码: **无需在处理的每个步骤中跟踪训练（和验证）数据。在每个处理步骤中记录数据可能会变得混乱。用Pipeline，你不需要手动跟踪每一步。\n",
    "- ** 更少的代码 **\n",
    "- ** 更容易生产 **\n",
    "- ** 更多的模型测试选项 **\n",
    "\n",
    "# 示例\n",
    "## 加载数据"
   ]
  },
  {
   "cell_type": "code",
   "execution_count": 3,
   "metadata": {},
   "outputs": [],
   "source": [
    "import pandas as pd\n",
    "from sklearn.model_selection import train_test_split\n",
    "\n",
    "# 读取数据\n",
    "data = pd.read_csv('input/melb_data.csv')\n",
    "cols_to_use = ['Rooms', 'Distance', 'Landsize', 'BuildingArea', 'YearBuilt']\n",
    "X = data[cols_to_use]\n",
    "y = data.Price\n",
    "train_X, test_X, train_y, test_y = train_test_split(X, y)"
   ]
  },
  {
   "cell_type": "markdown",
   "metadata": {},
   "source": [
    "假如有如下操作：\n",
    "- 使用`Imputer`处理缺失值\n",
    "- 紧接着使用`RandomForestRegressor`进行预测\n",
    "可以使用函数`make_pipeline`将上述步骤捆绑在一起，代码如下。"
   ]
  },
  {
   "cell_type": "code",
   "execution_count": 4,
   "metadata": {},
   "outputs": [],
   "source": [
    "from sklearn.ensemble import RandomForestRegressor\n",
    "from sklearn.pipeline import make_pipeline\n",
    "from sklearn.preprocessing import Imputer\n",
    "\n",
    "my_pipeline = make_pipeline(Imputer(), RandomForestRegressor())"
   ]
  },
  {
   "cell_type": "markdown",
   "metadata": {},
   "source": [
    "现在，可以把这个pipeline作为整体，进行拟合及预测。"
   ]
  },
  {
   "cell_type": "code",
   "execution_count": 5,
   "metadata": {},
   "outputs": [],
   "source": [
    "my_pipeline.fit(train_X, train_y)\n",
    "predictions = my_pipeline.predict(test_X)"
   ]
  },
  {
   "cell_type": "markdown",
   "metadata": {},
   "source": [
    "作为对比，下面的代码，实现相同的功能。"
   ]
  },
  {
   "cell_type": "code",
   "execution_count": 6,
   "metadata": {},
   "outputs": [],
   "source": [
    "my_imputer = Imputer()\n",
    "my_model = RandomForestRegressor()\n",
    "\n",
    "imputed_train_X = my_imputer.fit_transform(train_X)\n",
    "imputed_test_X = my_imputer.transform(test_X)\n",
    "my_model.fit(imputed_train_X, train_y)\n",
    "predictions_ = my_model.predict(imputed_test_X)"
   ]
  },
  {
   "cell_type": "markdown",
   "metadata": {},
   "source": [
    "这个简单的pipeline只在代码优雅性方面有改进。但随着数据处理日益复杂，pipeline变得越来越有价值。\n",
    "\n",
    "# 理解 pipeline\n",
    "觉大多数 `scikit-learn` 对象是 `transformers` 和 `models`。\n",
    "\n",
    "- `Transformers: `在建模之前对数据进行预处理。Imputer类(用于填补缺失值)就是Transformer的一个示例。未来，将学习更多的Transformer，并且会经常使用多个Transformer。\n",
    "- `Models: `用于预测。在将数据应用到模型之前，通常需要对其进行预处理(使用Transformer)。\n",
    "\n",
    "可以通过对象的使用方式，区分该对象是Transformer还是Model。在fit一个Transformer之后，使用`transform`命令使用它；但是，在fit一个Model之后，使用`predict`命令来使用它。\n",
    "\n",
    "一个Pipeline必须从Transformer步骤开始，并以Model结束。"
   ]
  }
 ],
 "metadata": {
  "kernelspec": {
   "display_name": "Python 3",
   "language": "python",
   "name": "python3"
  },
  "language_info": {
   "codemirror_mode": {
    "name": "ipython",
    "version": 3
   },
   "file_extension": ".py",
   "mimetype": "text/x-python",
   "name": "python",
   "nbconvert_exporter": "python",
   "pygments_lexer": "ipython3",
   "version": "3.6.4"
  }
 },
 "nbformat": 4,
 "nbformat_minor": 2
}
