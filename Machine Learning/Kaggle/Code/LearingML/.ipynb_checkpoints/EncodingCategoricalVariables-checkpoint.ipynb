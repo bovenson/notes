{
 "cells": [
  {
   "cell_type": "markdown",
   "metadata": {},
   "source": [
    "# 编码分类变量\n",
    "## 独热编码: 处理分类数据的标准方法\n",
    "\n",
    "独热编码适合取值数量不是太大的分类变量。\n",
    "独热编码创建新的二进制列，表示源数据每个可能的取值。\n",
    "示例如下:\n",
    "![](img/001.png)\n",
    "\n",
    "## 示例"
   ]
  },
  {
   "cell_type": "code",
   "execution_count": 1,
   "metadata": {},
   "outputs": [],
   "source": [
    "# 读取数据\n",
    "import pandas as pd\n",
    "train_data = pd.read_csv('./input/train.csv')\n",
    "test_data = pd.read_csv('./input/test.csv')\n",
    "\n",
    "# 删除目标缺失的列\n",
    "train_data.dropna(axis=0, subset=['SalePrice'], inplace=True)\n",
    "\n",
    "target = train_data.SalePrice\n",
    "\n",
    "# 删除所有包含空数据的列\n",
    "cols_with_missing = [col for col in train_data.columns if train_data[col].isnull().any()]\n",
    "\n",
    "candidate_train_predictors = train_data.drop(['Id', 'SalePrice'] + cols_with_missing, axis=1)\n",
    "candidate_test_predictors = train_data.drop(['Id'] + cols_with_missing, axis=1)\n",
    "\n",
    "# \"cardinality\" 意思是一个列不同数值的个数\n",
    "low_cardinality_cols = [cname for cname in candidate_train_predictors.columns if \n",
    "                       candidate_train_predictors[cname].nunique() < 10 and \n",
    "                       candidate_train_predictors[cname].dtype == \"object\"]\n",
    "\n",
    "numeric_cols = [cname for cname in candidate_train_predictors.columns if\n",
    "               candidate_train_predictors[cname].dtype in ['int64', 'float64']]\n",
    "\n",
    "my_cols = low_cardinality_cols + numeric_cols\n",
    "train_predictors = candidate_train_predictors[my_cols]\n",
    "test_predictors = candidate_test_predictors[my_cols]"
   ]
  },
  {
   "cell_type": "markdown",
   "metadata": {},
   "source": [
    "`pandas`为每列或每个`Series`设定一个数据类型(叫做`dtype`)。\n",
    "\n",
    "`Object`表明该列包含文本。\n",
    "\n",
    "通常使用独热编码`Object`列，因为它们通常不能被大多数模型直接使用。`Pandas`提供了一个方便的函数`get_dummies`实现独热编码。\n",
    "\n",
    "```python\n",
    "one_hot_encoded_training_predictors = pd.get_dummies(train_predictors)\n",
    "```"
   ]
  },
  {
   "cell_type": "code",
   "execution_count": 2,
   "metadata": {},
   "outputs": [
    {
     "data": {
      "text/plain": [
       "CentralAir      object\n",
       "2ndFlrSF         int64\n",
       "BsmtFullBath     int64\n",
       "WoodDeckSF       int64\n",
       "3SsnPorch        int64\n",
       "MSSubClass       int64\n",
       "GarageCars       int64\n",
       "Heating         object\n",
       "MSZoning        object\n",
       "LandSlope       object\n",
       "dtype: object"
      ]
     },
     "execution_count": 2,
     "metadata": {},
     "output_type": "execute_result"
    }
   ],
   "source": [
    "train_predictors.dtypes.sample(10)"
   ]
  },
  {
   "cell_type": "markdown",
   "metadata": {},
   "source": [
    "独热编码通常是有用处的。\n",
    "\n",
    "可以使用类似下面代码进行比较。"
   ]
  },
  {
   "cell_type": "code",
   "execution_count": 3,
   "metadata": {},
   "outputs": [
    {
     "name": "stdout",
     "output_type": "stream",
     "text": [
      "Mean Absolute Error when Dropping Categoricals: 18608\n",
      "Mean Absolute Error when One-Hot Encoding: 17915\n"
     ]
    }
   ],
   "source": [
    "from sklearn.model_selection import cross_val_score\n",
    "from sklearn.ensemble import RandomForestRegressor\n",
    "\n",
    "def get_mae(X, y):\n",
    "    # 为了更方便使用sklearn，结果乘以-1，使得结果为正数\n",
    "    return -1 * cross_val_score(RandomForestRegressor(50),\n",
    "                               X, y,\n",
    "                               scoring='neg_mean_absolute_error').mean()\n",
    "one_hot_encoded_training_predictors = pd.get_dummies(train_predictors)\n",
    "predictors_without_categoricals = train_predictors.select_dtypes(exclude=['object'])\n",
    "mae_without_categoricals = get_mae(predictors_without_categoricals, target)\n",
    "mae_one_hot_encoded = get_mae(one_hot_encoded_training_predictors, target)\n",
    "\n",
    "print('Mean Absolute Error when Dropping Categoricals: ' + str(int(mae_without_categoricals)))\n",
    "print('Mean Absolute Error when One-Hot Encoding: ' + str(int(mae_one_hot_encoded)))"
   ]
  },
  {
   "cell_type": "markdown",
   "metadata": {},
   "source": [
    "## 应用多个文件\n",
    "当使用多个文件时，由于`Scikit-learn`对列的顺序是敏感的，所以，如果训练集合测试集的列顺序错位，结果会无效。\n",
    "\n",
    "为了保证测试集合训练集有相同的顺序，可以这样："
   ]
  },
  {
   "cell_type": "code",
   "execution_count": 6,
   "metadata": {},
   "outputs": [],
   "source": [
    "one_hot_encoded_training_predictors = pd.get_dummies(train_predictors)\n",
    "one_hot_encoded_test_predictors = pd.get_dummies(test_predictors)\n",
    "one_hot_encoded_test = one_hot_encoded_training_predictors.align(one_hot_encoded_test_predictors, join='left', axis=1)"
   ]
  },
  {
   "cell_type": "markdown",
   "metadata": {},
   "source": [
    "- `align()` 使得两个数据集列的排列顺序一致\n",
    "- `join='left'` 指明操作和SQL语法中 `left join` 一致\n",
    "    - 左连接意味着，某一列只出现在一个数据集中，会保留该列的数据\n",
    "    - `join='inner'` 意味着，只保留两个数据集共有的列"
   ]
  }
 ],
 "metadata": {
  "kernelspec": {
   "display_name": "Python 3",
   "language": "python",
   "name": "python3"
  },
  "language_info": {
   "codemirror_mode": {
    "name": "ipython",
    "version": 3
   },
   "file_extension": ".py",
   "mimetype": "text/x-python",
   "name": "python",
   "nbconvert_exporter": "python",
   "pygments_lexer": "ipython3",
   "version": "3.6.4"
  }
 },
 "nbformat": 4,
 "nbformat_minor": 2
}
