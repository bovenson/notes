{
 "cells": [
  {
   "cell_type": "markdown",
   "metadata": {},
   "source": [
    "# 什么是 Pipelines?\n",
    "\n",
    "Pipelines是组织数据处理和建模代码的简单方法。具体而言，一个管道捆绑了预处理和建模的多个步骤，因此可以像使用单个步骤一样使用整个捆绑包。\n",
    "\n",
    "Pipeline的好处：\n",
    "- ** 更简洁的代码: **无需在处理的每个步骤中跟踪训练（和验证）数据。在每个处理步骤中记录数据可能会变得混乱。用Pipeline，你不需要手动跟踪每一步。\n",
    "- ** 更少的代码 **\n",
    "- ** 更容易生产 **\n",
    "- ** 更多的模型测试选项 **\n",
    "\n",
    "# 示例\n",
    "## 加载数据"
   ]
  },
  {
   "cell_type": "code",
   "execution_count": 14,
   "metadata": {},
   "outputs": [],
   "source": [
    "import pandas as pd\n",
    "from sklearn.model_selection import train_test_split\n",
    "\n",
    "# 读取数据\n",
    "data = pd.read_csv('input/melb_data.csv')\n",
    "cols_to_use = ['Rooms', 'Distance', 'Landsize', 'BuildingArea', 'YearBuilt']\n",
    "X = data[cols_to_use]\n",
    "y = data.Price\n",
    "train_X, test_X, train_y, test_y = train_test_split(X, y)"
   ]
  },
  {
   "cell_type": "markdown",
   "metadata": {},
   "source": []
  }
 ],
 "metadata": {
  "kernelspec": {
   "display_name": "Python 3",
   "language": "python",
   "name": "python3"
  },
  "language_info": {
   "codemirror_mode": {
    "name": "ipython",
    "version": 3
   },
   "file_extension": ".py",
   "mimetype": "text/x-python",
   "name": "python",
   "nbconvert_exporter": "python",
   "pygments_lexer": "ipython3",
   "version": "3.6.4"
  }
 },
 "nbformat": 4,
 "nbformat_minor": 2
}
