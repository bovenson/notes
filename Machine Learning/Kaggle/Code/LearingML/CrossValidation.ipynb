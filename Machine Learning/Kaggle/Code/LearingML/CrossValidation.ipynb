{
 "cells": [
  {
   "cell_type": "markdown",
   "metadata": {},
   "source": [
    "# 交叉验证\n",
    "机器学习是一个迭代过程。\n",
    "\n",
    "面临参数变量及模型的选择问题。\n",
    "\n",
    "和`Train-Test`划分相比，交叉验证提供了更可靠的模型质量度量，尽管需要更多地运行时间。\n",
    "\n",
    "## `Train-Test`划分的缺点\n",
    "机器学习是一个迭代过程。\n",
    "\n",
    "当数据量较小时，随机因素可能影响模型的选择。实际上，对小数据集的理想建模决策通常不是大数据集上的最佳建模决策。\n",
    "\n",
    "## 交叉验证的处理过程\n",
    "在交叉验证中，我们在不同的数据子集上运行我们的建模过程，以获得多个模型质量度量。\n",
    "\n",
    "例如，我们将数据集划分为5部分，每部分占整个数据集的1/5。选用第一部分作为测试集，其余部分作为训练集，训练得到一个基于20％保留集的模型质量度量，就像使用简单的`Train-Test`拆分一样。然后，依次对其余部分采用相同操作。最后，将结果整合在一起进行考虑。\n",
    "\n",
    "## 交叉验证和`Train-Test`划分的选择问题\n",
    "- 交叉验证提供了更精确的模型质量度量，需要更多的运行时间\n",
    "- 当数据集较小时，应该使用交叉验证\n",
    "- 当数据集较大时，考虑到训练时间，应该使用`Train-Test`划分\n",
    "- 数据集大、小没有明确的划分\n",
    "- 可以运行交叉验证并每次实验得到的分数是否接近，如果结果相近，那么`Train-Test`划分可能就足够了\n",
    "\n",
    "# 示例\n",
    "读取数据"
   ]
  },
  {
   "cell_type": "code",
   "execution_count": 3,
   "metadata": {},
   "outputs": [],
   "source": [
    "import pandas as pd\n",
    "data = pd.read_csv('input/melb_data.csv')\n",
    "cols_to_use = ['Rooms', 'Distance', 'Landsize', 'BuildingArea', 'YearBuilt']\n",
    "X = data[cols_to_use]\n",
    "y = data.Price"
   ]
  },
  {
   "cell_type": "markdown",
   "metadata": {},
   "source": [
    "指定建模步骤的Pipeline(如果不使用Pipeline，运行交叉验证可能会很困难)"
   ]
  },
  {
   "cell_type": "code",
   "execution_count": 4,
   "metadata": {},
   "outputs": [],
   "source": [
    "from sklearn.ensemble import RandomForestRegressor\n",
    "from sklearn.pipeline import make_pipeline\n",
    "from sklearn.preprocessing import Imputer\n",
    "\n",
    "my_pipeline = make_pipeline(Imputer(), RandomForestRegressor())"
   ]
  },
  {
   "cell_type": "markdown",
   "metadata": {},
   "source": [
    "获得交叉验证分数"
   ]
  },
  {
   "cell_type": "code",
   "execution_count": 5,
   "metadata": {},
   "outputs": [
    {
     "name": "stdout",
     "output_type": "stream",
     "text": [
      "[-325760.6592326  -301566.80263933 -280392.58119011]\n"
     ]
    }
   ],
   "source": [
    "from sklearn.model_selection import cross_val_score\n",
    "scores = cross_val_score(my_pipeline, X, y, scoring='neg_mean_absolute_error')\n",
    "print(scores)"
   ]
  },
  {
   "cell_type": "markdown",
   "metadata": {},
   "source": [
    "通常需要模型质量的单一度量来比较模型，所以对所有分数取平均值。"
   ]
  },
  {
   "cell_type": "code",
   "execution_count": 7,
   "metadata": {},
   "outputs": [
    {
     "name": "stdout",
     "output_type": "stream",
     "text": [
      "Mean Absolute Error 302573.347687\n"
     ]
    }
   ],
   "source": [
    "print('Mean Absolute Error %2f' %(-1 * scores.mean()))"
   ]
  },
  {
   "cell_type": "markdown",
   "metadata": {},
   "source": [
    "使用交叉验证为我们提供了更好的模型质量度量。"
   ]
  }
 ],
 "metadata": {
  "kernelspec": {
   "display_name": "Python 3",
   "language": "python",
   "name": "python3"
  },
  "language_info": {
   "codemirror_mode": {
    "name": "ipython",
    "version": 3
   },
   "file_extension": ".py",
   "mimetype": "text/x-python",
   "name": "python",
   "nbconvert_exporter": "python",
   "pygments_lexer": "ipython3",
   "version": "3.5.2"
  }
 },
 "nbformat": 4,
 "nbformat_minor": 2
}
