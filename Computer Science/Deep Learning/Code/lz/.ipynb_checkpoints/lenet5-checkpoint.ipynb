{
 "cells": [
  {
   "cell_type": "code",
   "execution_count": 1,
   "metadata": {},
   "outputs": [],
   "source": [
    "def run_generate_data():\n",
    "    from data_generator import generate_data\n",
    "    generate_data()\n",
    "# run_generate_data()"
   ]
  },
  {
   "cell_type": "markdown",
   "metadata": {},
   "source": [
    "# 加载数据"
   ]
  },
  {
   "cell_type": "code",
   "execution_count": 2,
   "metadata": {},
   "outputs": [
    {
     "name": "stdout",
     "output_type": "stream",
     "text": [
      "**********  Train Set  **********\n",
      "Count       :  90000\n",
      "Images Shape:  (90000, 900)\n",
      "Labels Shape:  (90000,)\n",
      "\n",
      "**********  Validate Set  **********\n",
      "Count       :  30000\n",
      "Images Shape:  (30000, 900)\n",
      "Labels Shape:  (30000,)\n"
     ]
    }
   ],
   "source": [
    "from data_generator import *\n",
    "data_set = generate_data(recreate=False)\n",
    "\n",
    "# Transform\n",
    "data_set.train.trans()\n",
    "data_set.validation.trans()\n",
    "\n",
    "train_data = data_set.train\n",
    "validate_data = data_set.validation\n",
    "X_train, y_train = data_set.train.images, data_set.train.labels\n",
    "X_train = X_train.reshape([len(X_train), 30, 30, 1])\n",
    "X_validate, y_validate = data_set.validation.images, data_set.validation.labels\n",
    "X_validate = X_validate.reshape([len(X_validate), 30, 30, 1])\n",
    "print('*' * 10, ' Train Set ', '*' * 10)\n",
    "print('Count       : ', train_data.num_examples)\n",
    "print('Images Shape: ', train_data.images.shape)\n",
    "print('Labels Shape: ', train_data.labels.shape)\n",
    "print()\n",
    "\n",
    "print('*' * 10, ' Validate Set ', '*' * 10)\n",
    "print('Count       : ', validate_data.num_examples)\n",
    "print('Images Shape: ', validate_data.images.shape)\n",
    "print('Labels Shape: ', validate_data.labels.shape)"
   ]
  },
  {
   "cell_type": "markdown",
   "metadata": {},
   "source": [
    "# 显示图片"
   ]
  },
  {
   "cell_type": "code",
   "execution_count": 3,
   "metadata": {},
   "outputs": [
    {
     "name": "stdout",
     "output_type": "stream",
     "text": [
      "1\n"
     ]
    },
    {
     "data": {
      "image/png": "[encoded data removed]",
      "text/plain": [
       "<matplotlib.figure.Figure at 0x7fd578811b70>"
      ]
     },
     "metadata": {},
     "output_type": "display_data"
    }
   ],
   "source": [
    "import matplotlib.pyplot as plt\n",
    "%matplotlib inline\n",
    "img = X_train[0].reshape([30, 30])\n",
    "\n",
    "plt.figure(figsize=(1,1))\n",
    "plt.imshow(img, cmap=\"gray\")\n",
    "print(y_train[0])"
   ]
  },
  {
   "cell_type": "code",
   "execution_count": 8,
   "metadata": {},
   "outputs": [
    {
     "name": "stdout",
     "output_type": "stream",
     "text": [
      "1 2 3 4 5 6 7 8 9 10 11 12 13 14 15 16 17 18 19 20 21 22 23 24 25 26 27 28 29 30 31 32 33 34 35 36 37 38 39 40 41 42 43 44 45 46 47 48 49 50 "
     ]
    },
    {
     "name": "stderr",
     "output_type": "stream",
     "text": [
      "/home/bovenson/anaconda3/lib/python3.6/site-packages/matplotlib/pyplot.py:528: RuntimeWarning: More than 20 figures have been opened. Figures created through the pyplot interface (`matplotlib.pyplot.figure`) are retained until explicitly closed and may consume too much memory. (To control this warning, see the rcParam `figure.max_open_warning`).\n",
      "  max_open_warning, RuntimeWarning)\n"
     ]
    },
    {
     "data": {
      "text/plain": [
       "<matplotlib.figure.Figure at 0x7fd56ca70b38>"
      ]
     },
     "metadata": {},
     "output_type": "display_data"
    },
    {
     "data": {
      "text/plain": [
       "<matplotlib.figure.Figure at 0x7fd56ca5a0b8>"
      ]
     },
     "metadata": {},
     "output_type": "display_data"
    },
    {
     "data": {
      "text/plain": [
       "<matplotlib.figure.Figure at 0x7fd56f9b8978>"
      ]
     },
     "metadata": {},
     "output_type": "display_data"
    },
    {
     "data": {
      "text/plain": [
       "<matplotlib.figure.Figure at 0x7fd56fb86780>"
      ]
     },
     "metadata": {},
     "output_type": "display_data"
    },
    {
     "data": {
      "text/plain": [
       "<matplotlib.figure.Figure at 0x7fd56f1f1080>"
      ]
     },
     "metadata": {},
     "output_type": "display_data"
    },
    {
     "data": {
      "text/plain": [
       "<matplotlib.figure.Figure at 0x7fd56f1f1a20>"
      ]
     },
     "metadata": {},
     "output_type": "display_data"
    },
    {
     "data": {
      "text/plain": [
       "<matplotlib.figure.Figure at 0x7fd56f78e2e8>"
      ]
     },
     "metadata": {},
     "output_type": "display_data"
    },
    {
     "data": {
      "text/plain": [
       "<matplotlib.figure.Figure at 0x7fd56f78eb70>"
      ]
     },
     "metadata": {},
     "output_type": "display_data"
    },
    {
     "data": {
      "text/plain": [
       "<matplotlib.figure.Figure at 0x7fd56f7bf438>"
      ]
     },
     "metadata": {},
     "output_type": "display_data"
    },
    {
     "data": {
      "text/plain": [
       "<matplotlib.figure.Figure at 0x7fd56f7bfcc0>"
      ]
     },
     "metadata": {},
     "output_type": "display_data"
    },
    {
     "data": {
      "text/plain": [
       "<matplotlib.figure.Figure at 0x7fd56f7c45c0>"
      ]
     },
     "metadata": {},
     "output_type": "display_data"
    },
    {
     "data": {
      "text/plain": [
       "<matplotlib.figure.Figure at 0x7fd56f7c4e48>"
      ]
     },
     "metadata": {},
     "output_type": "display_data"
    },
    {
     "data": {
      "text/plain": [
       "<matplotlib.figure.Figure at 0x7fd56f782710>"
      ]
     },
     "metadata": {},
     "output_type": "display_data"
    },
    {
     "data": {
      "text/plain": [
       "<matplotlib.figure.Figure at 0x7fd56f751080>"
      ]
     },
     "metadata": {},
     "output_type": "display_data"
    },
    {
     "data": {
      "text/plain": [
       "<matplotlib.figure.Figure at 0x7fd56f7519e8>"
      ]
     },
     "metadata": {},
     "output_type": "display_data"
    },
    {
     "data": {
      "text/plain": [
       "<matplotlib.figure.Figure at 0x7fd56f77c320>"
      ]
     },
     "metadata": {},
     "output_type": "display_data"
    },
    {
     "data": {
      "text/plain": [
       "<matplotlib.figure.Figure at 0x7fd56f77c780>"
      ]
     },
     "metadata": {},
     "output_type": "display_data"
    },
    {
     "data": {
      "text/plain": [
       "<matplotlib.figure.Figure at 0x7fd56f7896a0>"
      ]
     },
     "metadata": {},
     "output_type": "display_data"
    },
    {
     "data": {
      "text/plain": [
       "<matplotlib.figure.Figure at 0x7fd56f752048>"
      ]
     },
     "metadata": {},
     "output_type": "display_data"
    },
    {
     "data": {
      "text/plain": [
       "<matplotlib.figure.Figure at 0x7fd56f7529b0>"
      ]
     },
     "metadata": {},
     "output_type": "display_data"
    },
    {
     "data": {
      "text/plain": [
       "<matplotlib.figure.Figure at 0x7fd56f781358>"
      ]
     },
     "metadata": {},
     "output_type": "display_data"
    },
    {
     "data": {
      "text/plain": [
       "<matplotlib.figure.Figure at 0x7fd56f781cc0>"
      ]
     },
     "metadata": {},
     "output_type": "display_data"
    },
    {
     "data": {
      "text/plain": [
       "<matplotlib.figure.Figure at 0x7fd56e6b7668>"
      ]
     },
     "metadata": {},
     "output_type": "display_data"
    },
    {
     "data": {
      "text/plain": [
       "<matplotlib.figure.Figure at 0x7fd56e6b7fd0>"
      ]
     },
     "metadata": {},
     "output_type": "display_data"
    },
    {
     "data": {
      "text/plain": [
       "<matplotlib.figure.Figure at 0x7fd56e68c978>"
      ]
     },
     "metadata": {},
     "output_type": "display_data"
    },
    {
     "data": {
      "text/plain": [
       "<matplotlib.figure.Figure at 0x7fd56e69b320>"
      ]
     },
     "metadata": {},
     "output_type": "display_data"
    },
    {
     "data": {
      "text/plain": [
       "<matplotlib.figure.Figure at 0x7fd56e69bc88>"
      ]
     },
     "metadata": {},
     "output_type": "display_data"
    },
    {
     "data": {
      "text/plain": [
       "<matplotlib.figure.Figure at 0x7fd56e690630>"
      ]
     },
     "metadata": {},
     "output_type": "display_data"
    },
    {
     "data": {
      "text/plain": [
       "<matplotlib.figure.Figure at 0x7fd56e690f98>"
      ]
     },
     "metadata": {},
     "output_type": "display_data"
    },
    {
     "data": {
      "text/plain": [
       "<matplotlib.figure.Figure at 0x7fd56e6a0940>"
      ]
     },
     "metadata": {},
     "output_type": "display_data"
    },
    {
     "data": {
      "text/plain": [
       "<matplotlib.figure.Figure at 0x7fd56f5c32e8>"
      ]
     },
     "metadata": {},
     "output_type": "display_data"
    },
    {
     "data": {
      "text/plain": [
       "<matplotlib.figure.Figure at 0x7fd56f5c3c50>"
      ]
     },
     "metadata": {},
     "output_type": "display_data"
    },
    {
     "data": {
      "text/plain": [
       "<matplotlib.figure.Figure at 0x7fd56f5905f8>"
      ]
     },
     "metadata": {},
     "output_type": "display_data"
    },
    {
     "data": {
      "text/plain": [
       "<matplotlib.figure.Figure at 0x7fd56f590f60>"
      ]
     },
     "metadata": {},
     "output_type": "display_data"
    },
    {
     "data": {
      "text/plain": [
       "<matplotlib.figure.Figure at 0x7fd56f59b908>"
      ]
     },
     "metadata": {},
     "output_type": "display_data"
    },
    {
     "data": {
      "text/plain": [
       "<matplotlib.figure.Figure at 0x7fd56f5a22b0>"
      ]
     },
     "metadata": {},
     "output_type": "display_data"
    },
    {
     "data": {
      "text/plain": [
       "<matplotlib.figure.Figure at 0x7fd56f5a2c18>"
      ]
     },
     "metadata": {},
     "output_type": "display_data"
    },
    {
     "data": {
      "text/plain": [
       "<matplotlib.figure.Figure at 0x7fd56f59e5c0>"
      ]
     },
     "metadata": {},
     "output_type": "display_data"
    },
    {
     "data": {
      "text/plain": [
       "<matplotlib.figure.Figure at 0x7fd56f59ef28>"
      ]
     },
     "metadata": {},
     "output_type": "display_data"
    },
    {
     "data": {
      "text/plain": [
       "<matplotlib.figure.Figure at 0x7fd56f5ae8d0>"
      ]
     },
     "metadata": {},
     "output_type": "display_data"
    },
    {
     "data": {
      "text/plain": [
       "<matplotlib.figure.Figure at 0x7fd56f62d278>"
      ]
     },
     "metadata": {},
     "output_type": "display_data"
    },
    {
     "data": {
      "text/plain": [
       "<matplotlib.figure.Figure at 0x7fd56f62dbe0>"
      ]
     },
     "metadata": {},
     "output_type": "display_data"
    },
    {
     "data": {
      "text/plain": [
       "<matplotlib.figure.Figure at 0x7fd56f64a588>"
      ]
     },
     "metadata": {},
     "output_type": "display_data"
    },
    {
     "data": {
      "text/plain": [
       "<matplotlib.figure.Figure at 0x7fd56f64aef0>"
      ]
     },
     "metadata": {},
     "output_type": "display_data"
    },
    {
     "data": {
      "text/plain": [
       "<matplotlib.figure.Figure at 0x7fd56f649898>"
      ]
     },
     "metadata": {},
     "output_type": "display_data"
    },
    {
     "data": {
      "text/plain": [
       "<matplotlib.figure.Figure at 0x7fd56f637240>"
      ]
     },
     "metadata": {},
     "output_type": "display_data"
    },
    {
     "data": {
      "text/plain": [
       "<matplotlib.figure.Figure at 0x7fd56f637ba8>"
      ]
     },
     "metadata": {},
     "output_type": "display_data"
    },
    {
     "data": {
      "text/plain": [
       "<matplotlib.figure.Figure at 0x7fd56f631550>"
      ]
     },
     "metadata": {},
     "output_type": "display_data"
    },
    {
     "data": {
      "text/plain": [
       "<matplotlib.figure.Figure at 0x7fd56f631eb8>"
      ]
     },
     "metadata": {},
     "output_type": "display_data"
    },
    {
     "data": {
      "text/plain": [
       "<matplotlib.figure.Figure at 0x7fd56f989860>"
      ]
     },
     "metadata": {},
     "output_type": "display_data"
    }
   ],
   "source": [
    "import matplotlib.pyplot as plt\n",
    "%matplotlib inline\n",
    "\n",
    "s = set()\n",
    "for i in range(len(X_train)):\n",
    "    if y_train[i] in s:\n",
    "        continue\n",
    "    img = X_train[i].reshape([30, 30])\n",
    "    plt.figure(figsize=(1,1))\n",
    "    plt.imshow(img, cmap=\"gray\")\n",
    "    plt.imsave(str(y_train[i]) + '.png', img, cmap='gray')\n",
    "    \n",
    "    print(y_train[i], end=' ')\n",
    "    s.add(y_train[i])"
   ]
  },
  {
   "cell_type": "code",
   "execution_count": 4,
   "metadata": {},
   "outputs": [],
   "source": [
    "from math import sqrt\n",
    "\n",
    "def put_kernels_on_grid (kernel, pad = 1):\n",
    "      '''Visualize conv. filters as an image (mostly for the 1st layer).\n",
    "      Arranges filters into a grid, with some paddings between adjacent filters.\n",
    "      Args:\n",
    "        kernel:            tensor of shape [Y, X, NumChannels, NumKernels]\n",
    "        pad:               number of black pixels around each filter (between them)\n",
    "      Return:\n",
    "        Tensor of shape [1, (Y+2*pad)*grid_Y, (X+2*pad)*grid_X, NumChannels].\n",
    "      '''\n",
    "      # get shape of the grid. NumKernels == grid_Y * grid_X\n",
    "      def factorization(n):\n",
    "        for i in range(int(sqrt(float(n))), 0, -1):\n",
    "          if n % i == 0:\n",
    "            if i == 1: print('Who would enter a prime number of filters')\n",
    "            return (i, int(n / i))\n",
    "      (grid_Y, grid_X) = factorization (kernel.get_shape()[3].value)\n",
    "      print ('grid: %d = (%d, %d)' % (kernel.get_shape()[3].value, grid_Y, grid_X))\n",
    "\n",
    "      x_min = tf.reduce_min(kernel)\n",
    "      x_max = tf.reduce_max(kernel)\n",
    "      kernel = (kernel - x_min) / (x_max - x_min)\n",
    "\n",
    "      # pad X and Y\n",
    "      x = tf.pad(kernel, tf.constant( [[pad,pad],[pad, pad],[0,0],[0,0]] ), mode = 'CONSTANT')\n",
    "\n",
    "      # X and Y dimensions, w.r.t. padding\n",
    "      Y = kernel.get_shape()[0] + 2 * pad\n",
    "      X = kernel.get_shape()[1] + 2 * pad\n",
    "\n",
    "      channels = kernel.get_shape()[2]\n",
    "\n",
    "      # put NumKernels to the 1st dimension\n",
    "      x = tf.transpose(x, (3, 0, 1, 2))\n",
    "      # organize grid on Y axis\n",
    "      x = tf.reshape(x, tf.stack([grid_X, Y * grid_Y, X, channels]))\n",
    "\n",
    "      # switch X and Y axes\n",
    "      x = tf.transpose(x, (0, 2, 1, 3))\n",
    "      # organize grid on X axis\n",
    "      x = tf.reshape(x, tf.stack([1, X * grid_X, Y * grid_Y, channels]))\n",
    "\n",
    "      # back to normal order (not combining with the next step for clarity)\n",
    "      x = tf.transpose(x, (2, 1, 3, 0))\n",
    "\n",
    "      # to tf.image_summary order [batch_size, height, width, channels],\n",
    "      #   where in this case batch_size == 1\n",
    "      x = tf.transpose(x, (3, 0, 1, 2))\n",
    "\n",
    "      # scaling to [0, 255] is not necessary for tensorboard\n",
    "      return x\n",
    "\n",
    "\n",
    "#\n",
    "# ... and somewhere inside \"def train():\" after calling \"inference()\"\n",
    "#\n",
    "\n",
    "# Visualize conv1 kernels\n",
    "# with tf.variable_scope('conv1'):\n",
    "#       tf.get_variable_scope().reuse_variables()\n",
    "#       weights = tf.get_variable('weights')\n",
    "#       grid = put_kernels_on_grid (weights)\n",
    "#       tf.image.summary('conv1/kernels', grid, max_outputs=1)"
   ]
  },
  {
   "cell_type": "markdown",
   "metadata": {},
   "source": [
    "# Setup Tensorflow"
   ]
  },
  {
   "cell_type": "code",
   "execution_count": 5,
   "metadata": {},
   "outputs": [
    {
     "name": "stderr",
     "output_type": "stream",
     "text": [
      "/home/bovenson/.local/lib/python3.6/site-packages/h5py/__init__.py:36: FutureWarning: Conversion of the second argument of issubdtype from `float` to `np.floating` is deprecated. In future, it will be treated as `np.float64 == np.dtype(float).type`.\n",
      "  from ._conv import register_converters as _register_converters\n"
     ]
    }
   ],
   "source": [
    "import tensorflow as tf\n",
    "\n",
    "EPOCHS = 1\n",
    "BATCH_SIZE = 50"
   ]
  },
  {
   "cell_type": "markdown",
   "metadata": {},
   "source": [
    "# 输入\n",
    "LeNet接受`32*32*color_channels`作为输入。\n",
    "\n",
    "# 结构\n",
    "- 第一层\n",
    "    - 卷积层: \n",
    "        - 卷积核尺寸: 3\n",
    "        - 深度     : 6\n",
    "        - 步长     : 1\n",
    "        - 全零填充\n",
    "        - 输出     : `30*30*6`\n",
    "    - 激活函数: ReLu\n",
    "    - 池化层: \n",
    "        - 过滤器尺寸: 2\n",
    "        - 步长     : 2\n",
    "        - 输出     : `15*15*6`\n",
    "- 第二层\n",
    "    - 卷积层\n",
    "        - 输入     : `15*15*6`\n",
    "        - 深度     : 16\n",
    "        - 步长     : 1\n",
    "        - 卷积核尺寸: 3\n",
    "        - 输出     : `15*15*16`\n",
    "    - 激活函数: ReLu\n",
    "    - 池化层: \n",
    "        - 过滤器尺寸: 3\n",
    "        - 步长     : 3\n",
    "        - 输出     : `5*5*16`\n",
    "    - Flatten: Flatten the output shape of the final pooling layer such that it's 1D instead of 3D\n",
    "- 第三层\n",
    "    - 全连接层: 120个神经元\n",
    "    - 激活函数: ReLu\n",
    "- 第四层\n",
    "    - 全连接层: 84个神经元\n",
    "    - 激活函数: ReLu\n",
    "- 第五层\n",
    "    - 全连接层(Logits): 50个神经元"
   ]
  },
  {
   "cell_type": "code",
   "execution_count": 6,
   "metadata": {},
   "outputs": [
    {
     "name": "stdout",
     "output_type": "stream",
     "text": [
      "WARNING:tensorflow:From /home/bovenson/.local/lib/python3.6/site-packages/tensorflow/contrib/learn/python/learn/datasets/base.py:198: retry (from tensorflow.contrib.learn.python.learn.datasets.base) is deprecated and will be removed in a future version.\n",
      "Instructions for updating:\n",
      "Use the retry module or similar alternatives.\n"
     ]
    }
   ],
   "source": [
    "from tensorflow.contrib.layers import flatten\n",
    "\n",
    "def conv2d(x, W, b, stride=1, padding='SAME'):\n",
    "    \"\"\"\n",
    "    实现纳卷积操作\n",
    "    x: 输入\n",
    "    W: 卷积核\n",
    "    b: 偏置\n",
    "    strides: 步长\n",
    "    padding: padding\n",
    "    \"\"\"\n",
    "    x = tf.nn.conv2d(input=x, filter=W, strides=[1, stride, stride, 1], padding=padding)\n",
    "    x = tf.nn.bias_add(x, b)\n",
    "    return tf.nn.relu(x)\n",
    "\n",
    "\n",
    "def maxpool2d(x, k=2, padding='SAME'):\n",
    "    \"\"\"\n",
    "    池化操作\n",
    "    x: 输入\n",
    "    k: 步长及过滤器尺寸\n",
    "    padding: padding\n",
    "    \"\"\"\n",
    "    return tf.nn.max_pool(x, ksize=[1, k, k, 1], strides=[1, k, k, 1], padding=padding)\n",
    "\n",
    "\n",
    "def fc_relu(x, W, b):\n",
    "    \"\"\"\n",
    "    全连接层激活函数\n",
    "    x: 输入\n",
    "    W: 卷积核\n",
    "    b: 偏置\n",
    "    \"\"\"\n",
    "    x = tf.add(tf.matmul(x, W), b)\n",
    "    return tf.nn.relu(x)\n",
    "\n",
    "\n",
    "def LeNet(x):\n",
    "    \"\"\"定义LeNet\"\"\"\n",
    "    # 定义参数\n",
    "    mu = 0\n",
    "    sigma = 0.1\n",
    "    weights = {\n",
    "        # 第一层; 卷积操作卷积核\n",
    "        'wc1': tf.Variable(tf.truncated_normal(shape=(3, 3, 1, 6), mean = mu, stddev = sigma, name='wc1')), \n",
    "        # 第三层; 卷积操作卷积核\n",
    "        'wc2': tf.Variable(tf.truncated_normal(shape=(3, 3, 6, 16), mean = mu, stddev = sigma, name='wc2')), \n",
    "        # 第五层; 全连接操作\n",
    "        'wfc': tf.Variable(tf.truncated_normal(shape=(5*5*16, 120), mean = mu, stddev = sigma, name='wfc')), \n",
    "        # 输出层; 全连接操作\n",
    "        'out': tf.Variable(tf.truncated_normal(shape=(120, 50), mean = mu, stddev = sigma, name='wout')),\n",
    "    }\n",
    "    biases = {\n",
    "        # 第一层\n",
    "        'bc1': tf.Variable(tf.zeros(6)),\n",
    "        # 第三层\n",
    "        'bc2': tf.Variable(tf.zeros(16)),\n",
    "        # 第五层\n",
    "        'bfc': tf.Variable(tf.zeros(120)),\n",
    "        # 输出层\n",
    "        'out': tf.Variable(tf.zeros(50))\n",
    "    }\n",
    "    \n",
    "    # 第一层\n",
    "    ## 卷积操作\n",
    "    ### 输入 = 30*30*1\n",
    "    ### 输出 = 30*30*6\n",
    "    ## 激活操作\n",
    "    ## 池化操作\n",
    "    ### 输入 = 30*30*6\n",
    "    ### 输出 = 15*15*6\n",
    "    c1 = conv2d(x, weights['wc1'], biases['bc1'])\n",
    "    tf.summary.image('conv1_features', tf.split(c1, num_or_size_splits=6, axis=3)[0], 10)\n",
    "    c1 = maxpool2d(c1, k=2)\n",
    "\n",
    "    # 第二层\n",
    "    ## 卷积操作\n",
    "    ### 输入 = 15*15*6\n",
    "    ### 输出 = 15*15*16\n",
    "    ## 激活操作\n",
    "    ## 池化操作\n",
    "    ### 输入 = 15*15*6\n",
    "    ### 输出 = 5*5*6\n",
    "    c2 = conv2d(c1, weights['wc2'], biases['bc2'])\n",
    "    c2 = maxpool2d(c2, k=3)\n",
    "    \n",
    "    # Flatten\n",
    "    ## input 5*5*16\n",
    "    ## output 400\n",
    "    c2_flat = flatten(c2)\n",
    "    \n",
    "    # 第三层\n",
    "    ## Fully Connected\n",
    "    ## Input = 400\n",
    "    ## Output = 120\n",
    "    # Activation\n",
    "    fc = fc_relu(c2_flat, weights['wfc'], biases['bfc']) \n",
    "    \n",
    "    # Layer 第五层\n",
    "    ## 输出层\n",
    "    ## Fully Connected\n",
    "    ## Input = 120\n",
    "    ## Output = 50\n",
    "    logits = tf.add(tf.matmul(fc, weights['out']), biases['out'])\n",
    "    return logits"
   ]
  },
  {
   "cell_type": "markdown",
   "metadata": {},
   "source": [
    "# 特征和标签\n",
    "- x is a placeholder for a batch of input images\n",
    "- y is a placeholder for a batch of output labels"
   ]
  },
  {
   "cell_type": "code",
   "execution_count": 7,
   "metadata": {},
   "outputs": [],
   "source": [
    "x = tf.placeholder(tf.float32, (None, 30, 30, 1), name='x-input')\n",
    "y = tf.placeholder(tf.int32, (None), name='y-input')\n",
    "one_hot_y = tf.one_hot(y, 50)"
   ]
  },
  {
   "cell_type": "markdown",
   "metadata": {},
   "source": [
    "# Training Pipeline"
   ]
  },
  {
   "cell_type": "code",
   "execution_count": 8,
   "metadata": {
    "scrolled": false
   },
   "outputs": [
    {
     "name": "stdout",
     "output_type": "stream",
     "text": [
      "WARNING:tensorflow:From <ipython-input-8-acb6c96dcd18>:4: softmax_cross_entropy_with_logits (from tensorflow.python.ops.nn_ops) is deprecated and will be removed in a future version.\n",
      "Instructions for updating:\n",
      "\n",
      "Future major versions of TensorFlow will allow gradients to flow\n",
      "into the labels input on backprop by default.\n",
      "\n",
      "See tf.nn.softmax_cross_entropy_with_logits_v2.\n",
      "\n"
     ]
    }
   ],
   "source": [
    "rate = 0.001\n",
    "\n",
    "logits = LeNet(x)\n",
    "cross_entropy = tf.nn.softmax_cross_entropy_with_logits(logits=logits, labels=one_hot_y)\n",
    "loss_operation = tf.reduce_mean(cross_entropy)\n",
    "optimizer = tf.train.AdamOptimizer(learning_rate = rate)\n",
    "training_operation = optimizer.minimize(loss_operation)"
   ]
  },
  {
   "cell_type": "markdown",
   "metadata": {},
   "source": [
    "# 模型验证"
   ]
  },
  {
   "cell_type": "code",
   "execution_count": 9,
   "metadata": {},
   "outputs": [],
   "source": [
    "correct_prediction = tf.equal(tf.argmax(logits, 1), tf.argmax(one_hot_y, 1))\n",
    "accuracy_operation = tf.reduce_mean(tf.cast(correct_prediction, tf.float32))\n",
    "saver = tf.train.Saver()\n",
    "\n",
    "def evaluate(X_data, y_data):\n",
    "    num_examples = len(X_data)\n",
    "    total_accuracy = 0\n",
    "    sess = tf.get_default_session()\n",
    "    for offset in range(0, num_examples, BATCH_SIZE):\n",
    "        batch_x, batch_y = X_data[offset:offset+BATCH_SIZE], y_data[offset:offset+BATCH_SIZE]\n",
    "        accuracy = sess.run(accuracy_operation, feed_dict={x: batch_x, y: batch_y})\n",
    "        total_accuracy += (accuracy * len(batch_x))\n",
    "    return total_accuracy / num_examples"
   ]
  },
  {
   "cell_type": "markdown",
   "metadata": {},
   "source": [
    "# 训练模型"
   ]
  },
  {
   "cell_type": "code",
   "execution_count": 10,
   "metadata": {},
   "outputs": [
    {
     "name": "stdout",
     "output_type": "stream",
     "text": [
      "Training...\n",
      "\n",
      "EPOCHS 0 ...\n",
      "Validation Accuracy = 0.235\n",
      "\n",
      "Model saved\n"
     ]
    }
   ],
   "source": [
    "from sklearn.utils import shuffle\n",
    "with tf.Session() as sess:\n",
    "    sess.run(tf.global_variables_initializer())\n",
    "    writer = tf.summary.FileWriter('log', sess.graph)\n",
    "    num_examples = train_data.num_examples\n",
    "    \n",
    "    # with tf.variable_scope('conv1'):\n",
    "        # tf.get_variable_scope().reuse_variables()\n",
    "\n",
    "    \n",
    "    print('Training...\\n')\n",
    "    \n",
    "    for i in range(EPOCHS):\n",
    "        X_train, y_train = shuffle(X_train, y_train)\n",
    "        for offset in range(0, num_examples, BATCH_SIZE):\n",
    "            end = offset + BATCH_SIZE\n",
    "            batch_x, batch_y = X_train[offset:end], y_train[offset:end]\n",
    "            # print(batch_x.shape)\n",
    "            # print(batch_y.shape)\n",
    "            # batch_x = batch_x.reshape([len(batch_x), 30, 30, 1])\n",
    "            sess.run(training_operation, feed_dict={x: batch_x, y: batch_y})\n",
    "        \n",
    "        validation_accuracy = evaluate(X_validate, y_validate)\n",
    "        print('EPOCHS {} ...'.format(i))\n",
    "        print('Validation Accuracy = {:.3f}'.format(validation_accuracy))\n",
    "        print()\n",
    "        \n",
    "    saver.save(sess, './model')\n",
    "    print(\"Model saved\")"
   ]
  },
  {
   "cell_type": "code",
   "execution_count": null,
   "metadata": {},
   "outputs": [],
   "source": []
  }
 ],
 "metadata": {
  "kernelspec": {
   "display_name": "Python 3",
   "language": "python",
   "name": "python3"
  },
  "language_info": {
   "codemirror_mode": {
    "name": "ipython",
    "version": 3
   },
   "file_extension": ".py",
   "mimetype": "text/x-python",
   "name": "python",
   "nbconvert_exporter": "python",
   "pygments_lexer": "ipython3",
   "version": "3.6.4"
  }
 },
 "nbformat": 4,
 "nbformat_minor": 2
}
