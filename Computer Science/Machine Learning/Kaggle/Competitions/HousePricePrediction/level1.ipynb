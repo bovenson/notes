{
 "cells": [
  {
   "cell_type": "markdown",
   "metadata": {
    "_cell_guid": "e81ee64d-e474-4662-9036-ce23df615199",
    "_uuid": "b6269c0e8f417f82daf093dda8fa0da6d2c57d86"
   },
   "source": [
    "# 简介\n",
    "Kaggle教程之房价预测。\n",
    "\n",
    "# 使用Pandas探索数据\n",
    "## DataFrame\n",
    "- DataFrame是重要的Pandas重要的数据类型\n",
    "- 可以理解为数据表"
   ]
  },
  {
   "cell_type": "code",
   "execution_count": 59,
   "metadata": {
    "_cell_guid": "86b26423-563a-4fa1-a595-89e25ff93089",
    "_uuid": "1c728098629e1301643443b1341556a15c089b2b"
   },
   "outputs": [
    {
     "name": "stdout",
     "output_type": "stream",
     "text": [
      "                Id   MSSubClass  LotFrontage        LotArea  OverallQual  \\\n",
      "count  1460.000000  1460.000000  1201.000000    1460.000000  1460.000000   \n",
      "mean    730.500000    56.897260    70.049958   10516.828082     6.099315   \n",
      "std     421.610009    42.300571    24.284752    9981.264932     1.382997   \n",
      "min       1.000000    20.000000    21.000000    1300.000000     1.000000   \n",
      "25%     365.750000    20.000000    59.000000    7553.500000     5.000000   \n",
      "50%     730.500000    50.000000    69.000000    9478.500000     6.000000   \n",
      "75%    1095.250000    70.000000    80.000000   11601.500000     7.000000   \n",
      "max    1460.000000   190.000000   313.000000  215245.000000    10.000000   \n",
      "\n",
      "       OverallCond    YearBuilt  YearRemodAdd   MasVnrArea   BsmtFinSF1  \\\n",
      "count  1460.000000  1460.000000   1460.000000  1452.000000  1460.000000   \n",
      "mean      5.575342  1971.267808   1984.865753   103.685262   443.639726   \n",
      "std       1.112799    30.202904     20.645407   181.066207   456.098091   \n",
      "min       1.000000  1872.000000   1950.000000     0.000000     0.000000   \n",
      "25%       5.000000  1954.000000   1967.000000     0.000000     0.000000   \n",
      "50%       5.000000  1973.000000   1994.000000     0.000000   383.500000   \n",
      "75%       6.000000  2000.000000   2004.000000   166.000000   712.250000   \n",
      "max       9.000000  2010.000000   2010.000000  1600.000000  5644.000000   \n",
      "\n",
      "           ...         WoodDeckSF  OpenPorchSF  EnclosedPorch    3SsnPorch  \\\n",
      "count      ...        1460.000000  1460.000000    1460.000000  1460.000000   \n",
      "mean       ...          94.244521    46.660274      21.954110     3.409589   \n",
      "std        ...         125.338794    66.256028      61.119149    29.317331   \n",
      "min        ...           0.000000     0.000000       0.000000     0.000000   \n",
      "25%        ...           0.000000     0.000000       0.000000     0.000000   \n",
      "50%        ...           0.000000    25.000000       0.000000     0.000000   \n",
      "75%        ...         168.000000    68.000000       0.000000     0.000000   \n",
      "max        ...         857.000000   547.000000     552.000000   508.000000   \n",
      "\n",
      "       ScreenPorch     PoolArea       MiscVal       MoSold       YrSold  \\\n",
      "count  1460.000000  1460.000000   1460.000000  1460.000000  1460.000000   \n",
      "mean     15.060959     2.758904     43.489041     6.321918  2007.815753   \n",
      "std      55.757415    40.177307    496.123024     2.703626     1.328095   \n",
      "min       0.000000     0.000000      0.000000     1.000000  2006.000000   \n",
      "25%       0.000000     0.000000      0.000000     5.000000  2007.000000   \n",
      "50%       0.000000     0.000000      0.000000     6.000000  2008.000000   \n",
      "75%       0.000000     0.000000      0.000000     8.000000  2009.000000   \n",
      "max     480.000000   738.000000  15500.000000    12.000000  2010.000000   \n",
      "\n",
      "           SalePrice  \n",
      "count    1460.000000  \n",
      "mean   180921.195890  \n",
      "std     79442.502883  \n",
      "min     34900.000000  \n",
      "25%    129975.000000  \n",
      "50%    163000.000000  \n",
      "75%    214000.000000  \n",
      "max    755000.000000  \n",
      "\n",
      "[8 rows x 38 columns]\n"
     ]
    }
   ],
   "source": [
    "import pandas as pd\n",
    "\n",
    "main_file_path = '../input/train.csv'\n",
    "# 加载数据\n",
    "data = pd.read_csv(main_file_path)\n",
    "# 打印数据描述\n",
    "print(data.describe())"
   ]
  },
  {
   "cell_type": "markdown",
   "metadata": {
    "_cell_guid": "33cd9ed5-ada7-4880-b91c-e6370da5aff1",
    "_uuid": "ef522f5897d37d635d5352af7d01a1faa4188e9b"
   },
   "source": [
    "### 数据描述说明\n",
    "结果中，每一列有八个数字：\n",
    "- count： 数据行数\n",
    "- mean：均值\n",
    "- std：标准差\n",
    "- min：最小值\n",
    "- 25%\n",
    "- 50%\n",
    "- 75%\n",
    "- max：最大值\n",
    "\n",
    "## 选择过滤数据"
   ]
  },
  {
   "cell_type": "code",
   "execution_count": 60,
   "metadata": {
    "_cell_guid": "110b5b46-adac-4e3d-88f2-344cf36e12ab",
    "_uuid": "7fde63f7953e6d7206e6ec5b1d745f898d2fd8d2"
   },
   "outputs": [
    {
     "name": "stdout",
     "output_type": "stream",
     "text": [
      "Index(['Id', 'MSSubClass', 'MSZoning', 'LotFrontage', 'LotArea', 'Street',\n",
      "       'Alley', 'LotShape', 'LandContour', 'Utilities', 'LotConfig',\n",
      "       'LandSlope', 'Neighborhood', 'Condition1', 'Condition2', 'BldgType',\n",
      "       'HouseStyle', 'OverallQual', 'OverallCond', 'YearBuilt', 'YearRemodAdd',\n",
      "       'RoofStyle', 'RoofMatl', 'Exterior1st', 'Exterior2nd', 'MasVnrType',\n",
      "       'MasVnrArea', 'ExterQual', 'ExterCond', 'Foundation', 'BsmtQual',\n",
      "       'BsmtCond', 'BsmtExposure', 'BsmtFinType1', 'BsmtFinSF1',\n",
      "       'BsmtFinType2', 'BsmtFinSF2', 'BsmtUnfSF', 'TotalBsmtSF', 'Heating',\n",
      "       'HeatingQC', 'CentralAir', 'Electrical', '1stFlrSF', '2ndFlrSF',\n",
      "       'LowQualFinSF', 'GrLivArea', 'BsmtFullBath', 'BsmtHalfBath', 'FullBath',\n",
      "       'HalfBath', 'BedroomAbvGr', 'KitchenAbvGr', 'KitchenQual',\n",
      "       'TotRmsAbvGrd', 'Functional', 'Fireplaces', 'FireplaceQu', 'GarageType',\n",
      "       'GarageYrBlt', 'GarageFinish', 'GarageCars', 'GarageArea', 'GarageQual',\n",
      "       'GarageCond', 'PavedDrive', 'WoodDeckSF', 'OpenPorchSF',\n",
      "       'EnclosedPorch', '3SsnPorch', 'ScreenPorch', 'PoolArea', 'PoolQC',\n",
      "       'Fence', 'MiscFeature', 'MiscVal', 'MoSold', 'YrSold', 'SaleType',\n",
      "       'SaleCondition', 'SalePrice'],\n",
      "      dtype='object')\n"
     ]
    }
   ],
   "source": [
    "# 打印列\n",
    "print(data.columns)"
   ]
  },
  {
   "cell_type": "markdown",
   "metadata": {
    "_cell_guid": "f431eb8d-739b-4b0f-822d-e1444d51530a",
    "_uuid": "7fb9fb801b171460cd2e0c97efddc4342ea950e0"
   },
   "source": [
    "# 选择一列数据"
   ]
  },
  {
   "cell_type": "code",
   "execution_count": 61,
   "metadata": {
    "_cell_guid": "65bc92c5-c250-44b0-b127-47ec7e6dffa8",
    "_uuid": "abdc21781c6af24df0050ddada5d2a7c818cb54b"
   },
   "outputs": [
    {
     "name": "stdout",
     "output_type": "stream",
     "text": [
      "0    208500\n",
      "1    181500\n",
      "2    223500\n",
      "3    140000\n",
      "4    250000\n",
      "Name: SalePrice, dtype: int64\n"
     ]
    }
   ],
   "source": [
    "price_data = data.SalePrice\n",
    "print(price_data.head())"
   ]
  },
  {
   "cell_type": "markdown",
   "metadata": {
    "_cell_guid": "18125e6b-ee39-485d-8fae-e29d0a7fc6b8",
    "_uuid": "cf826c8c0a29678da419026c43be18ba76abfd89"
   },
   "source": [
    "# 选择多列"
   ]
  },
  {
   "cell_type": "code",
   "execution_count": 62,
   "metadata": {
    "_cell_guid": "b6852a65-a23c-47aa-9d4b-9f6c90b6d807",
    "_uuid": "17a01b0c4b6a1f9a780559fcac7858b0725c62fb"
   },
   "outputs": [
    {
     "data": {
      "text/html": [
       "<div>\n",
       "<style scoped>\n",
       "    .dataframe tbody tr th:only-of-type {\n",
       "        vertical-align: middle;\n",
       "    }\n",
       "\n",
       "    .dataframe tbody tr th {\n",
       "        vertical-align: top;\n",
       "    }\n",
       "\n",
       "    .dataframe thead th {\n",
       "        text-align: right;\n",
       "    }\n",
       "</style>\n",
       "<table border=\"1\" class=\"dataframe\">\n",
       "  <thead>\n",
       "    <tr style=\"text-align: right;\">\n",
       "      <th></th>\n",
       "      <th>SalePrice</th>\n",
       "      <th>LotArea</th>\n",
       "    </tr>\n",
       "  </thead>\n",
       "  <tbody>\n",
       "    <tr>\n",
       "      <th>count</th>\n",
       "      <td>1460.000000</td>\n",
       "      <td>1460.000000</td>\n",
       "    </tr>\n",
       "    <tr>\n",
       "      <th>mean</th>\n",
       "      <td>180921.195890</td>\n",
       "      <td>10516.828082</td>\n",
       "    </tr>\n",
       "    <tr>\n",
       "      <th>std</th>\n",
       "      <td>79442.502883</td>\n",
       "      <td>9981.264932</td>\n",
       "    </tr>\n",
       "    <tr>\n",
       "      <th>min</th>\n",
       "      <td>34900.000000</td>\n",
       "      <td>1300.000000</td>\n",
       "    </tr>\n",
       "    <tr>\n",
       "      <th>25%</th>\n",
       "      <td>129975.000000</td>\n",
       "      <td>7553.500000</td>\n",
       "    </tr>\n",
       "    <tr>\n",
       "      <th>50%</th>\n",
       "      <td>163000.000000</td>\n",
       "      <td>9478.500000</td>\n",
       "    </tr>\n",
       "    <tr>\n",
       "      <th>75%</th>\n",
       "      <td>214000.000000</td>\n",
       "      <td>11601.500000</td>\n",
       "    </tr>\n",
       "    <tr>\n",
       "      <th>max</th>\n",
       "      <td>755000.000000</td>\n",
       "      <td>215245.000000</td>\n",
       "    </tr>\n",
       "  </tbody>\n",
       "</table>\n",
       "</div>"
      ],
      "text/plain": [
       "           SalePrice        LotArea\n",
       "count    1460.000000    1460.000000\n",
       "mean   180921.195890   10516.828082\n",
       "std     79442.502883    9981.264932\n",
       "min     34900.000000    1300.000000\n",
       "25%    129975.000000    7553.500000\n",
       "50%    163000.000000    9478.500000\n",
       "75%    214000.000000   11601.500000\n",
       "max    755000.000000  215245.000000"
      ]
     },
     "execution_count": 62,
     "metadata": {},
     "output_type": "execute_result"
    }
   ],
   "source": [
    "col_of_interest = ['SalePrice', 'LotArea']\n",
    "interest_data = data[col_of_interest]\n",
    "interest_data.describe()"
   ]
  },
  {
   "cell_type": "markdown",
   "metadata": {
    "_cell_guid": "9253803f-710c-4e81-b812-212c7b4f3c08",
    "_uuid": "30a530a13f356e9cd24ff430d571444a305e8987"
   },
   "source": [
    "# 选择预测目标"
   ]
  },
  {
   "cell_type": "code",
   "execution_count": 63,
   "metadata": {
    "_cell_guid": "edc1eb8c-b0b6-4c93-89d2-b5d2c49fb04d",
    "_uuid": "af36ea9de1aa81d29e5b4bf1fd06aa27bc2bf529",
    "collapsed": true
   },
   "outputs": [],
   "source": [
    "# 预测目标\n",
    "y = data.SalePrice\n",
    "# 选择预测数据\n",
    "predictors = ['LotArea', '1stFlrSF', 'YearBuilt', '2ndFlrSF', 'FullBath', 'BedroomAbvGr', 'TotRmsAbvGrd']\n",
    "X = data[predictors]"
   ]
  },
  {
   "cell_type": "markdown",
   "metadata": {
    "_cell_guid": "2e9d138c-f892-43af-8d40-528fd50f283a",
    "_uuid": "25de5bba87cf91e97eb968b2cc3039d82d5d944f"
   },
   "source": [
    "# 建立模型\n",
    "使用 `scikit-learn` 创建模型。步骤如下：\n",
    "- 定义：使用哪一个模型？决策树或其他？以及该模型的参数。\n",
    "- 训练：从提供的数据里面捕捉特征，这是模型的核心。\n",
    "- 预测\n",
    "- 评估：判断模型的准确度如何。"
   ]
  },
  {
   "cell_type": "code",
   "execution_count": 64,
   "metadata": {
    "_cell_guid": "acd2e008-dee7-42b8-b76a-d9f59300adb2",
    "_uuid": "152683b672701235ca86a7bc456bcdef55071453"
   },
   "outputs": [
    {
     "data": {
      "text/plain": [
       "DecisionTreeRegressor(criterion='mse', max_depth=None, max_features=None,\n",
       "           max_leaf_nodes=None, min_impurity_decrease=0.0,\n",
       "           min_impurity_split=None, min_samples_leaf=1,\n",
       "           min_samples_split=2, min_weight_fraction_leaf=0.0,\n",
       "           presort=False, random_state=None, splitter='best')"
      ]
     },
     "execution_count": 64,
     "metadata": {},
     "output_type": "execute_result"
    }
   ],
   "source": [
    "from sklearn.tree import DecisionTreeRegressor\n",
    "\n",
    "# 定义模型\n",
    "model = DecisionTreeRegressor()\n",
    "\n",
    "# 训练模型\n",
    "model.fit(X, y)"
   ]
  },
  {
   "cell_type": "code",
   "execution_count": 65,
   "metadata": {
    "_cell_guid": "0485ece3-9f89-4077-b49d-ace100b28c36",
    "_uuid": "f0584b8216d35c1d831a546108c0be921ea3fb03"
   },
   "outputs": [
    {
     "name": "stdout",
     "output_type": "stream",
     "text": [
      "预测一下5个房子:\n",
      "   LotArea  1stFlrSF  YearBuilt  2ndFlrSF  FullBath  BedroomAbvGr  \\\n",
      "0     8450       856       2003       854         2             3   \n",
      "1     9600      1262       1976         0         2             3   \n",
      "2    11250       920       2001       866         2             3   \n",
      "3     9550       961       1915       756         1             3   \n",
      "4    14260      1145       2000      1053         2             4   \n",
      "\n",
      "   TotRmsAbvGrd  \n",
      "0             8  \n",
      "1             6  \n",
      "2             6  \n",
      "3             7  \n",
      "4             9  \n",
      "预测如下:\n",
      "[208500. 181500. 223500. 140000. 250000.]\n",
      "实际价格:\n",
      "0    208500\n",
      "1    181500\n",
      "2    223500\n",
      "3    140000\n",
      "4    250000\n",
      "Name: SalePrice, dtype: int64\n"
     ]
    }
   ],
   "source": [
    "print(\"预测一下5个房子:\")\n",
    "print(X.head(5))\n",
    "print(\"预测如下:\")\n",
    "print(model.predict(X.head()))\n",
    "print(\"实际价格:\")\n",
    "print(y.head(5))"
   ]
  },
  {
   "cell_type": "markdown",
   "metadata": {
    "_cell_guid": "22574c59-4684-4b88-a16a-f18d7cd79207",
    "_uuid": "2ddb21375cfc84e006412ac7967c4ccf68db90a1"
   },
   "source": [
    "# 模型验证"
   ]
  },
  {
   "cell_type": "code",
   "execution_count": 66,
   "metadata": {
    "_cell_guid": "c59b518f-6355-4895-b188-055920ee4d5c",
    "_uuid": "649d11ee8142e32e294f9060aea7d136dbbb8800"
   },
   "outputs": [
    {
     "data": {
      "text/plain": [
       "62.35433789954339"
      ]
     },
     "execution_count": 66,
     "metadata": {},
     "output_type": "execute_result"
    }
   ],
   "source": [
    "from sklearn.metrics import mean_absolute_error\n",
    "\n",
    "predicted_price = model.predict(X)\n",
    "mean_absolute_error(y, predicted_price)"
   ]
  },
  {
   "cell_type": "code",
   "execution_count": 67,
   "metadata": {
    "_cell_guid": "a3f207a2-e29b-4d21-94db-6b81652ba0f3",
    "_uuid": "242935086dcfc131e35865d4332b92f021270f77"
   },
   "outputs": [
    {
     "name": "stdout",
     "output_type": "stream",
     "text": [
      "33280.71506849315\n"
     ]
    }
   ],
   "source": [
    "# 使用 sklearn 划分数据集\n",
    "from sklearn.model_selection import train_test_split\n",
    "\n",
    "# 划分数据为训练集合验证集\n",
    "# 划分基于随机数字生成. 提供给random_state一个固定的数值, 保证每次得到相同的划分\n",
    "train_X, val_X, train_y, val_y = train_test_split(X,y, random_state = 0)\n",
    "model = DecisionTreeRegressor()\n",
    "model.fit(train_X, train_y)\n",
    "\n",
    "val_predictions = model.predict(val_X)\n",
    "print(mean_absolute_error(val_y, val_predictions))"
   ]
  },
  {
   "cell_type": "markdown",
   "metadata": {
    "_uuid": "4be0cbb2063fe20152769de2bf52b6f3787e6b75"
   },
   "source": [
    "编写工具函数，比较不同 `max_leaf_nodes` 的值"
   ]
  },
  {
   "cell_type": "code",
   "execution_count": 68,
   "metadata": {
    "_uuid": "23a21a9a35294ee73d64a75ed081220a4c3732d3"
   },
   "outputs": [
    {
     "name": "stdout",
     "output_type": "stream",
     "text": [
      "最大叶节点 5 \t\t 绝对平均误差: 35190\n",
      "最大叶节点 50 \t\t 绝对平均误差: 27825\n",
      "最大叶节点 500 \t\t 绝对平均误差: 32757\n",
      "最大叶节点 5000 \t\t 绝对平均误差: 33413\n"
     ]
    }
   ],
   "source": [
    "from sklearn.metrics import mean_absolute_error\n",
    "from sklearn.tree import DecisionTreeRegressor\n",
    "\n",
    "def get_mae(max_leaf_nodes, predictors_train, predictors_val, targ_train, targ_val):\n",
    "    model = DecisionTreeRegressor(max_leaf_nodes=max_leaf_nodes, random_state=0)\n",
    "    model.fit(predictors_train, targ_train)\n",
    "    preds_val = model.predict(predictors_val)\n",
    "    mae = mean_absolute_error(targ_val, preds_val)\n",
    "    return mae\n",
    "\n",
    "# 对比不同的 max_leaf_nodes\n",
    "for max_leaf_nodes in [5, 50, 500, 5000]:\n",
    "    my_mae = get_mae(max_leaf_nodes, train_X, val_X, train_y, val_y)\n",
    "    print(\"最大叶节点 %d \\t\\t 绝对平均误差: %d\" % (max_leaf_nodes, my_mae))"
   ]
  },
  {
   "cell_type": "markdown",
   "metadata": {
    "_uuid": "7768e01ab89b2e4d671c5bf5d1dfa5be76412a3d"
   },
   "source": [
    "# 随机森林\n",
    "- 随机森林使用多棵树，通过平均每棵树的预测值进行预测\n",
    "- 比单棵树有更好的预测精度\n",
    "- 使用默认参数也可以有很好的表现\n",
    "- 如果继续建模，可能会学到更多的模型、得到更好的表现，但是他们中的很多对正确的参数很敏感"
   ]
  },
  {
   "cell_type": "code",
   "execution_count": 69,
   "metadata": {
    "_uuid": "adbcafd499bf90279b5a19a89a1bf3a5652c99eb"
   },
   "outputs": [
    {
     "name": "stdout",
     "output_type": "stream",
     "text": [
      "24465.024383561646\n"
     ]
    }
   ],
   "source": [
    "# 构建随机森林模型\n",
    "from sklearn.ensemble import RandomForestRegressor\n",
    "from sklearn.metrics import mean_absolute_error\n",
    "\n",
    "forest_model = RandomForestRegressor()\n",
    "forest_model.fit(train_X, train_y)\n",
    "preds = forest_model.predict(val_X)\n",
    "print(mean_absolute_error(val_y, preds))"
   ]
  },
  {
   "cell_type": "markdown",
   "metadata": {
    "_uuid": "72b1fabacdeee1b693fb8c1ac65f30cd1f2764f2"
   },
   "source": [
    "# 在 Kaggle 中提交一个 Kernel\n",
    "如果使用Kaggle比赛中的数据，可以很容易地从 notebook 提交结果。\n",
    "## 示例"
   ]
  },
  {
   "cell_type": "code",
   "execution_count": 70,
   "metadata": {
    "_uuid": "f4f1817d2c30926f7bdd61fcff6edee2e8f35d0c",
    "collapsed": true
   },
   "outputs": [],
   "source": [
    "import numpy as np\n",
    "import pandas as pd\n",
    "from sklearn.ensemble import RandomForestRegressor\n",
    "\n",
    "# 读取数据\n",
    "train = pd.read_csv(\"../input/train.csv\")\n",
    "\n",
    "# 把数据放到 target (y) 和 predictors (X)\n",
    "train_y = train.SalePrice\n",
    "predictor_cols = ['LotArea', 'OverallQual', 'YearBuilt', 'TotRmsAbvGrd']\n",
    "\n",
    "# 生成训练预测数据集\n",
    "train_X = train[predictor_cols]\n",
    "\n",
    "rf_model = RandomForestRegressor()\n",
    "rf_model = rf_model.fit(train_X, train_y)"
   ]
  },
  {
   "cell_type": "markdown",
   "metadata": {
    "_uuid": "db8314c5bd48df7c6d0cc095a43a7f22ce34a410"
   },
   "source": [
    "使用测试数据进行验证"
   ]
  },
  {
   "cell_type": "code",
   "execution_count": 71,
   "metadata": {
    "_uuid": "6da60fc53147973bac368fbbc7cc0898e61e6ebd"
   },
   "outputs": [
    {
     "name": "stdout",
     "output_type": "stream",
     "text": [
      "[137350. 198850. 149645. ... 158080. 135600. 260550.]\n"
     ]
    }
   ],
   "source": [
    "# 读取测试数据\n",
    "test = pd.read_csv('../input/test.csv')\n",
    "test_X = test[predictor_cols]\n",
    "predicteds = rf_model.predict(test_X)\n",
    "print(predicteds)"
   ]
  },
  {
   "cell_type": "markdown",
   "metadata": {
    "_uuid": "278b0c364e9e1bdc042de32c44765e64fd31847c"
   },
   "source": [
    "## 准备待提交的数据文件\n",
    "提交通常包括两列：\n",
    "- ID列：来自测试数据集\n",
    "- 预测列：即目标列\n",
    "\n",
    "\n",
    "我们从数据创建一个`DataFram`，然后使用`DataFram`的`to_csv`方法把数据写入提交文件。\n",
    "明确的指定 `index=False` ，来防止 `pandas` 为数据添加额外的列。"
   ]
  },
  {
   "cell_type": "code",
   "execution_count": 73,
   "metadata": {
    "_uuid": "cf1bfb0acdad026c8c9dfd2d353a041ae853b683",
    "collapsed": true
   },
   "outputs": [],
   "source": [
    "my_submission = pd.DataFrame({'Id': test.Id, 'SalePrice': predicteds})\n",
    "# print(my_submission)\n",
    "my_submission.to_csv('submission.csv', index=False)"
   ]
  }
 ],
 "metadata": {
  "kernelspec": {
   "display_name": "Python 3",
   "language": "python",
   "name": "python3"
  },
  "language_info": {
   "codemirror_mode": {
    "name": "ipython",
    "version": 3
   },
   "file_extension": ".py",
   "mimetype": "text/x-python",
   "name": "python",
   "nbconvert_exporter": "python",
   "pygments_lexer": "ipython3",
   "version": "3.5.4rc1"
  }
 },
 "nbformat": 4,
 "nbformat_minor": 1
}
