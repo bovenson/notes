{
 "cells": [
  {
   "cell_type": "code",
   "execution_count": 8,
   "metadata": {},
   "outputs": [],
   "source": [
    "from data_rw_utils import read_from_excel\n",
    "from data_generator import *\n",
    "from openpyxl import Workbook\n",
    "\n",
    "ap_data, rf_data = read_data('data.xlsx', 'ap_positions_1', 'rf_positions_1')\n",
    "\n",
    "ap_pos = []\n",
    "rf_pos = []\n",
    "\n",
    "for i in rf_data.index:  # 遍历参考点\n",
    "    x, y, h = rf_data.loc[i].values[1:]\n",
    "    rf_pos.append(Point(x, y, h))\n",
    "\n",
    "for i in ap_data.index:  # 遍历 AP\n",
    "    x, y, h = ap_data.loc[i].values[1:]\n",
    "    ap_pos.append(Point(x, y, h))\n",
    "    \n",
    "# 在内存中创建一个workbook对象，而且会至少创建一个 worksheet\n",
    "wb = Workbook()\n",
    " \n",
    "new_ws = wb.create_sheet(title='rss')\n",
    "new_ws.cell(row=1, column=1).value = '参考点编号'\n",
    "new_ws.cell(row=1, column=2).value = 'AP编号'\n",
    "new_ws.cell(row=1, column=3).value = 'RSS值'\n",
    "\n",
    "line = 2\n",
    "for i in range(len(rf_pos)):\n",
    "    for j in range(len(ap_pos)):\n",
    "        new_ws.cell(row=line, column=1).value = i + 1\n",
    "        new_ws.cell(row=line, column=2).value = j + 1\n",
    "        d = ap_pos[j].distance(rf_pos[i])  # 参考点至AP的距离\n",
    "        rss_fix = figure_rss_fix(d)  # 计算理论场强值, 也是正态分布的均值mu\n",
    "        new_ws.cell(row=line, column=3).value = rss_fix\n",
    "        \n",
    "        line += 1\n",
    " \n",
    "# 最后一定要保存！\n",
    "wb.save(filename='rss.xlsx')"
   ]
  },
  {
   "cell_type": "code",
   "execution_count": null,
   "metadata": {},
   "outputs": [],
   "source": []
  }
 ],
 "metadata": {
  "kernelspec": {
   "display_name": "Python 3",
   "language": "python",
   "name": "python3"
  },
  "language_info": {
   "codemirror_mode": {
    "name": "ipython",
    "version": 3
   },
   "file_extension": ".py",
   "mimetype": "text/x-python",
   "name": "python",
   "nbconvert_exporter": "python",
   "pygments_lexer": "ipython3",
   "version": "3.6.4"
  }
 },
 "nbformat": 4,
 "nbformat_minor": 2
}
